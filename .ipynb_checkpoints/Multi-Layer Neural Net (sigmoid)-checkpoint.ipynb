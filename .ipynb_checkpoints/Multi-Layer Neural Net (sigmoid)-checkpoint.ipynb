{
 "cells": [
  {
   "cell_type": "code",
   "execution_count": 27,
   "metadata": {},
   "outputs": [],
   "source": [
    "import numpy as np\n",
    "\n",
    "X = np.array([\n",
    "  [1,1,0,1],\n",
    "  [1,1,1,1],\n",
    "  [1,0,1,1],\n",
    "  [0,0,0,1],\n",
    "])\n",
    "                \n",
    "y = np.array([[1],[0],[1],[0],])"
   ]
  },
  {
   "cell_type": "code",
   "execution_count": 36,
   "metadata": {},
   "outputs": [],
   "source": [
    "np.random.seed(1)\n",
    "class NN:\n",
    "  def __init__(self, X, y, hidden_layers, loss_function='mae'):\n",
    "    self.X = np.array(X)\n",
    "    self.y = np.array(y)\n",
    "    self.y = self.y.reshape(self.y.shape[0], 1)\n",
    "    self.schema = [X.shape[1]] + hidden_layers + [self.y.shape[1]]\n",
    "    self.schema_len = range(len(self.schema[:-1]))\n",
    "    self.loss_function = loss_function\n",
    "    for i, layer in enumerate(self.schema[:-1]):\n",
    "      setattr(self, f'W{i}', np.random.uniform(-1, 1, (layer, self.schema[i+1])))\n",
    "\n",
    "      \n",
    "  def nonlin(self, x, deriv=False):\n",
    "    if(deriv==True):\n",
    "      return x * (1 - x)\n",
    "    return 1/ (1 + np.exp(-x))\n",
    "  \n",
    "  \n",
    "  def forward(self, X=None):\n",
    "    if X:\n",
    "      self.l0 = np.array(X)\n",
    "    else:\n",
    "      self.l0 = self.X\n",
    "    for i in self.schema_len:\n",
    "      l, W = (getattr(self, j) for j in f'l{i} W{i}'.split())\n",
    "      setattr(self, f'l{i+1}', self.nonlin(l.dot(W)))\n",
    "    return getattr(self, f'l{len(self.schema_len)}')\n",
    "    \n",
    "  \n",
    "  def loss(self, error):\n",
    "    loss_dict = {\n",
    "      'mse': lambda x: np.mean(x**2),\n",
    "      'mae': lambda x: np.mean(abs(x)),\n",
    "    }\n",
    "    loss_function = loss_dict[self.loss_function]\n",
    "    return loss_function(error)\n",
    "    \n",
    "  def backward(self):\n",
    "\n",
    "    # calculation loss\n",
    "    for i in reversed(self.schema_len):\n",
    "      i += 1\n",
    "      l = getattr(self, f'l{i}')\n",
    "      if i == len(self.schema_len):\n",
    "        error = self.y - l\n",
    "        self.error = self.loss(error)\n",
    "      else:\n",
    "        delta, W = (getattr(self, j) for j in f'l{i}delta W{i}'.split())\n",
    "        error = delta.dot(W.T)\n",
    "      setattr(self, f'l{i-1}delta', error * self.nonlin(l, deriv=True))\n",
    "      \n",
    "    # adjusting weights\n",
    "    for i in reversed(self.schema_len):\n",
    "      l, W, delta = (getattr(self, j) for j in f'l{i} W{i} l{i}delta'.split())\n",
    "      setattr(self, f'W{i}', W + l.T.dot(delta))\n",
    "    \n",
    "    \n",
    "  def train(self, epochs=1000, print_nth_epoch=100):\n",
    "    for j in range(epochs):\n",
    "      self.forward()\n",
    "      self.backward()\n",
    "      if print_nth_epoch and not j % print_nth_epoch:\n",
    "        print(f'Error: {self.error}')\n",
    "       \n",
    "      \n",
    "  def predict(self, x):\n",
    "    return self.forward(x)"
   ]
  },
  {
   "cell_type": "code",
   "execution_count": 37,
   "metadata": {
    "scrolled": true
   },
   "outputs": [],
   "source": [
    "nn = NN(X, y, [100,50,25,10])"
   ]
  },
  {
   "cell_type": "code",
   "execution_count": 38,
   "metadata": {},
   "outputs": [
    {
     "name": "stdout",
     "output_type": "stream",
     "text": [
      "Error: 0.4978693614194011\n",
      "Error: 0.23589051861677926\n",
      "Error: 0.03786286917617938\n",
      "Error: 0.024881955673188207\n",
      "Error: 0.019620739046420657\n",
      "Error: 0.01662329092034298\n",
      "Error: 0.014637288732046538\n",
      "Error: 0.013202483571224569\n",
      "Error: 0.012105816156958467\n",
      "Error: 0.01123368439242848\n"
     ]
    }
   ],
   "source": [
    "nn.train()"
   ]
  },
  {
   "cell_type": "code",
   "execution_count": 39,
   "metadata": {},
   "outputs": [
    {
     "data": {
      "text/plain": [
       "array([[0.9945949 ],\n",
       "       [0.02733906],\n",
       "       [0.00453795]])"
      ]
     },
     "execution_count": 39,
     "metadata": {},
     "output_type": "execute_result"
    }
   ],
   "source": [
    "nn.predict([[1,0,0,1], [1,1,1,0], [0,1,1,0]])"
   ]
  },
  {
   "cell_type": "code",
   "execution_count": 40,
   "metadata": {},
   "outputs": [
    {
     "data": {
      "text/plain": [
       "'mae'"
      ]
     },
     "execution_count": 40,
     "metadata": {},
     "output_type": "execute_result"
    }
   ],
   "source": [
    "nn.loss_function"
   ]
  }
 ],
 "metadata": {
  "kernelspec": {
   "display_name": "Python 3",
   "language": "python",
   "name": "python3"
  },
  "language_info": {
   "codemirror_mode": {
    "name": "ipython",
    "version": 3
   },
   "file_extension": ".py",
   "mimetype": "text/x-python",
   "name": "python",
   "nbconvert_exporter": "python",
   "pygments_lexer": "ipython3",
   "version": "3.7.3"
  }
 },
 "nbformat": 4,
 "nbformat_minor": 2
}
