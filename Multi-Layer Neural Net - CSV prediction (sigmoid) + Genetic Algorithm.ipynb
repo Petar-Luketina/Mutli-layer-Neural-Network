{
 "cells": [
  {
   "cell_type": "code",
   "execution_count": 1,
   "metadata": {},
   "outputs": [],
   "source": [
    "import numpy as np\n",
    "import pandas as pd\n",
    "import random\n",
    "import matplotlib.pyplot as plt\n",
    "import seaborn as sns; sns.set()"
   ]
  },
  {
   "cell_type": "code",
   "execution_count": 2,
   "metadata": {},
   "outputs": [],
   "source": [
    "df = pd.read_csv(r'./train.csv')\n",
    "pd.options.display.max_columns = 999\n",
    "\n",
    "df_corr = pd.DataFrame(abs(df.corr()['SalePrice']).sort_values(ascending=False)).index\n",
    "cols = list(df_corr[:3]) + list(df_corr[-3:])\n",
    "\n",
    "X = df[cols].iloc[:100].drop('BsmtFinSF2', axis=1)\n",
    "y = X.pop('SalePrice')\n",
    "\n",
    "X = X.values\n",
    "y = y.values\n",
    "\n",
    "Xmin, Xmax = X.min(), X.max()\n",
    "ymin, ymax = y.min(), y.max()"
   ]
  },
  {
   "cell_type": "code",
   "execution_count": 3,
   "metadata": {},
   "outputs": [],
   "source": [
    "X = (X - Xmin) / (Xmax - Xmin)\n",
    "y = (y - ymin) / (ymax - ymin)"
   ]
  },
  {
   "cell_type": "code",
   "execution_count": 62,
   "metadata": {},
   "outputs": [],
   "source": [
    "class NN:\n",
    "  def __init__(self, X, y, hidden_layers=None, loss_function='mae'):\n",
    "    self.X = np.array(X)\n",
    "    self.y = np.array(y)\n",
    "    self.y = self.y.reshape(self.y.shape[0], 1)\n",
    "    self.loss_function = loss_function\n",
    "    if hidden_layers:\n",
    "      self.generate_layers(hidden_layers)\n",
    "  \n",
    "  \n",
    "  def generate_layers(self, hidden_layers):\n",
    "    np.random.seed(1)\n",
    "    self.schema = [X.shape[1]] + hidden_layers + [self.y.shape[1]]\n",
    "    self.schema_len = range(len(self.schema[:-1]))\n",
    "    for i, layer in enumerate(self.schema[:-1]):\n",
    "      setattr(self, f'W{i}', np.random.uniform(-1, 1, (layer, self.schema[i+1])))\n",
    "  \n",
    "      \n",
    "  # sigmoid\n",
    "  def nonlin(self, x, deriv=False):\n",
    "    if(deriv==True):\n",
    "      return x * (1 - x)\n",
    "    return 1/ (1 + np.exp(-x))\n",
    "  \n",
    "  \n",
    "  def forward(self, X=None):\n",
    "    if X:\n",
    "      self.l0 = np.array(X)\n",
    "    else:\n",
    "      self.l0 = self.X\n",
    "    for i in self.schema_len:\n",
    "      l, W = (getattr(self, j) for j in f'l{i} W{i}'.split())\n",
    "      setattr(self, f'l{i+1}', self.nonlin(l.dot(W)))\n",
    "    return getattr(self, f'l{len(self.schema_len)}')\n",
    "    \n",
    "  \n",
    "  def loss(self, error):\n",
    "    loss_dict = {\n",
    "      'mse': lambda x: np.mean(x**2),\n",
    "      'mae': lambda x: np.mean(abs(x)),\n",
    "    }\n",
    "    loss_function = loss_dict[self.loss_function]\n",
    "    return loss_function(error)\n",
    "    \n",
    "    \n",
    "  def backward(self):\n",
    "    for i in reversed(self.schema_len):   # calculation loss\n",
    "      i += 1\n",
    "      l = getattr(self, f'l{i}')\n",
    "      if i == len(self.schema_len):\n",
    "        error = self.y - l\n",
    "        self.error = self.loss(error)\n",
    "      else:\n",
    "        delta, W = (getattr(self, j) for j in f'l{i}delta W{i}'.split())\n",
    "        error = delta.dot(W.T)\n",
    "      setattr(self, f'l{i-1}delta', error * self.nonlin(l, deriv=True))\n",
    "      \n",
    "    for i in reversed(self.schema_len):   # adjusting weights\n",
    "      l, W, delta = (getattr(self, j) for j in f'l{i} W{i} l{i}delta'.split())\n",
    "      setattr(self, f'W{i}', W + l.T.dot(delta))\n",
    "    \n",
    "    \n",
    "  def train(self, epochs=1000, print_nth_epoch=100):\n",
    "    for j in range(epochs):\n",
    "      self.forward()\n",
    "      self.backward()\n",
    "      if print_nth_epoch and not j % print_nth_epoch:\n",
    "        print(f'Error: {self.error}')\n",
    "       \n",
    "      \n",
    "  def predict(self, x):\n",
    "    return self.forward(x)\n",
    "  \n",
    "  \n",
    "  def genetic_alogrithm(self, population_size=20, mutation_rate=0.05, algorithm_epochs=10, nn_epochs=500):\n",
    "    \n",
    "    def make_new_generation(fitness):\n",
    "      new_generation = []\n",
    "      new_gen_labels = []\n",
    "      for i in range(len(fitness)//2):\n",
    "        parent = [int(j) for j in fitness[i][0].split()]\n",
    "        child1 = [] # increment layers\n",
    "        child2 = [] # decrement layers\n",
    "        for layer_number in parent:\n",
    "          if random.random() > mutation_rate: # change the number of neurons in each layer\n",
    "            child1.append(layer_number + 1)\n",
    "            if layer_number > 1:\n",
    "              child2.append(layer_number - 1)\n",
    "        if random.random() > mutation_rate: # add or remove a layer\n",
    "          child1.append(random.choice(range(1,12)))\n",
    "          if len(child2) > 2:\n",
    "            child2.pop()\n",
    "        for child in [child1, child2]:\n",
    "          new_generation.append(child)\n",
    "          new_gen_labels.append(str(child)[1:-1].replace(',', ''))\n",
    "      return new_generation, new_gen_labels\n",
    "    \n",
    "    def create_initial_population():\n",
    "      organisms = []\n",
    "      organism_labels = []\n",
    "      for i in range(population_size):\n",
    "        organisms.append(np.random.choice(range(2,12), (random.choice(range(2,10)), )).tolist())\n",
    "        organism_labels.append(str(organisms[i]).replace(',', '')[1:-1])\n",
    "      return organisms, organism_labels\n",
    "          \n",
    "    def find_fitness(organisms, organism_labels):\n",
    "      fitness = []\n",
    "      for organism, organism_label in zip(organisms, organism_labels):\n",
    "        self.generate_layers(organism)\n",
    "        self.train(nn_epochs, None)\n",
    "        fitness.append([organism_label, self.error])\n",
    "      fitness = sorted(fitness, key=lambda x: x[1])\n",
    "      fittest_list.append(fitness[0])\n",
    "      return fitness\n",
    "    \n",
    "    fittest_list = [] # list of fittest organisms to be plotted.\n",
    "    \n",
    "    organisms, organism_labels = create_initial_population()\n",
    "    fitness = find_fitness(organisms, organism_labels)\n",
    "    \n",
    "    for _ in range(algorithm_epochs):\n",
    "      organisms, organism_labels = make_new_generation(fitness)\n",
    "      fitness = find_fitness(organisms, organism_labels)\n",
    "      \n",
    "    self.x_labels = [label for label, x in fittest_list]\n",
    "    self.x_fitness = [x for label, x in fittest_list]"
   ]
  },
  {
   "cell_type": "code",
   "execution_count": 63,
   "metadata": {},
   "outputs": [],
   "source": [
    "nn = NN(X, y)\n",
    "nn.genetic_alogrithm()"
   ]
  },
  {
   "cell_type": "code",
   "execution_count": 64,
   "metadata": {},
   "outputs": [
    {
     "data": {
      "image/png": "[encoded data removed]",
      "text/plain": [
       "<Figure size 432x288 with 1 Axes>"
      ]
     },
     "metadata": {
      "needs_background": "light"
     },
     "output_type": "display_data"
    }
   ],
   "source": [
    "fig, ax = plt.subplots()\n",
    "ax = plt.plot(nn.x_fitness)\n",
    "plt.xticks(range(len(nn.x_labels)), nn.x_labels, rotation=45)\n",
    "plt.show()"
   ]
  },
  {
   "cell_type": "code",
   "execution_count": null,
   "metadata": {
    "scrolled": true
   },
   "outputs": [],
   "source": [
    "nn = NN(X, y, [6, 2])\n",
    "nn.train(500, 100)"
   ]
  },
  {
   "cell_type": "code",
   "execution_count": null,
   "metadata": {},
   "outputs": [],
   "source": [
    "place = 13\n",
    "\n",
    "prediction = nn.predict([X[place]]).reshape(1,)[0] * ymax\n",
    "actual = y[place] * ymax\n",
    "\n",
    "print(f'Error: {round(abs(prediction - actual))}')"
   ]
  }
 ],
 "metadata": {
  "kernelspec": {
   "display_name": "Python 3",
   "language": "python",
   "name": "python3"
  },
  "language_info": {
   "codemirror_mode": {
    "name": "ipython",
    "version": 3
   },
   "file_extension": ".py",
   "mimetype": "text/x-python",
   "name": "python",
   "nbconvert_exporter": "python",
   "pygments_lexer": "ipython3",
   "version": "3.7.3"
  }
 },
 "nbformat": 4,
 "nbformat_minor": 2
}
