{
 "cells": [
  {
   "cell_type": "code",
   "execution_count": 1,
   "metadata": {},
   "outputs": [],
   "source": [
    "import numpy as np\n",
    "import pandas as pd\n",
    "import random\n",
    "import matplotlib.pyplot as plt\n",
    "import seaborn as sns; sns.set()\n",
    "from sklearn.preprocessing import MinMaxScaler\n",
    "\n",
    "\n",
    "def min_max_scale(data):\n",
    "  scaler = MinMaxScaler()\n",
    "  scaler.fit(data)\n",
    "  return scaler.transform(data)\n",
    "\n",
    "\n",
    "class NN:\n",
    "  def __init__(self, X, y, hidden_layers=None, loss_function='mae', bias=0, validation_percent=.2, train=True):\n",
    "    self.X = np.array(X)\n",
    "    self.y = np.array(y)\n",
    "    self.y = self.y.reshape(self.y.shape[0], 1)\n",
    "    self.loss_function = loss_function\n",
    "    self.bias = bias\n",
    "    if hidden_layers:\n",
    "      self.generate_layers(hidden_layers)\n",
    "    if train:\n",
    "      self.test_train_split(validation_percent)\n",
    "    \n",
    "    \n",
    "  def test_train_split(self, validation_percent):\n",
    "    if validation_percent >= 1:\n",
    "      self.validation_percent //= 100\n",
    "    self.validation_count = int(len(self.X) * validation_percent)\n",
    "    indexes = np.array([i for i in range(len(self.X))])\n",
    "    indexes = indexes[:self.validation_count]\n",
    "    \n",
    "    self.X_validation = self.X[indexes]\n",
    "    self.y_validation = self.y[indexes]\n",
    "    \n",
    "    self.X = np.delete(self.X, indexes, axis=0)\n",
    "    self.y = np.delete(self.y, indexes, axis=0)\n",
    "      \n",
    "  def generate_layers(self, hidden_layers):\n",
    "    self.hidden_layers = hidden_layers\n",
    "    np.random.seed(1)\n",
    "    self.schema = [self.X.shape[1]] + hidden_layers + [self.y.shape[1]]\n",
    "    self.schema_len = range(len(self.schema[:-1]))\n",
    "    for i, layer in enumerate(self.schema[:-1]):\n",
    "      setattr(self, f'W{i}', np.random.uniform(-1, 1, (layer, self.schema[i+1])))\n",
    "      if i != len(self.schema_len) - 1:\n",
    "        setattr(self, f'b{i}', np.full((1, self.schema[i+1]), self.bias))\n",
    "\n",
    "\n",
    "  # sigmoid\n",
    "  def nonlin(self, x, deriv=False):\n",
    "    if(deriv==True):\n",
    "      return x * (1 - x)\n",
    "    return 1/ (1 + np.exp(-x))\n",
    "\n",
    "\n",
    "  def forward(self, X=None):\n",
    "    if str(X) == 'None':\n",
    "      self.l0 = self.X\n",
    "    else:\n",
    "      self.l0 = np.array(X)\n",
    "    for i in self.schema_len:\n",
    "      l, W = (getattr(self, j) for j in f'l{i} W{i}'.split())\n",
    "      if i != len(self.schema_len)-1:\n",
    "        b = getattr(self, f'b{i}')\n",
    "        setattr(self, f'l{i+1}', self.nonlin(l.dot(W) + b))\n",
    "      else:\n",
    "        setattr(self, f'l{i+1}', self.nonlin(l.dot(W)))\n",
    "    return getattr(self, f'l{len(self.schema_len)}')\n",
    "\n",
    "\n",
    "  def loss(self, error):\n",
    "    loss_dict = {\n",
    "      'mae': lambda x: np.mean(abs(x)),\n",
    "      'mse': lambda x: np.mean(x**2),\n",
    "      'hmse': lambda x: np.mean((x**2)*.5),\n",
    "    }\n",
    "    loss_function = loss_dict[self.loss_function]\n",
    "    return loss_function(error)\n",
    "\n",
    "\n",
    "  def backward(self, back_prop=True, validation=False):\n",
    "    for i in reversed(self.schema_len):\n",
    "      i += 1\n",
    "      l = getattr(self, f'l{i}')\n",
    "      if i == len(self.schema_len):\n",
    "        if validation:\n",
    "          error = self.y_validation - l\n",
    "          self.validation_error = self.loss(error)\n",
    "        else:\n",
    "          error = self.y - l\n",
    "          self.error = self.loss(error)\n",
    "      else:\n",
    "        delta, W = (getattr(self, j) for j in f'l{i}delta W{i}'.split())\n",
    "        error = delta.dot(W.T)\n",
    "      setattr(self, f'l{i-1}delta', error * self.nonlin(l, deriv=True))\n",
    "\n",
    "    if back_prop: # adjust weights\n",
    "      for i in reversed(self.schema_len):\n",
    "        l, W, delta = (getattr(self, j) for j in f'l{i} W{i} l{i}delta'.split())\n",
    "        delta = l.T.dot(delta)\n",
    "        setattr(self, f'W{i}', W + delta)\n",
    "\n",
    "  def validate(self):\n",
    "    self.forward(self.X_validation)\n",
    "    self.backward(back_prop=False, validation=True)\n",
    "  \n",
    "\n",
    "  def train(self, epochs=1000, print_nth_epoch=100):\n",
    "    for j in range(epochs):\n",
    "      self.forward()\n",
    "      self.backward()\n",
    "      if print_nth_epoch and not j % print_nth_epoch:\n",
    "        self.validate()\n",
    "        print(f'Test error: {round(self.error, 6)}\\t Validation Error: {round(self.validation_error, 6)}')\n",
    "\n",
    "\n",
    "  def predict(self, x):\n",
    "    return self.forward(x)\n",
    "\n",
    "\n",
    "  def genetic_alogrithm(self, population_size=30, mutation_rate=0.05, algorithm_epochs=30, nn_epochs=400):\n",
    "\n",
    "    def make_new_generation(fitness):\n",
    "      new_generation = []\n",
    "      new_gen_labels = []\n",
    "      for i in range(len(fitness)//2):\n",
    "        parent = [int(j) for j in fitness[i][0].split()]\n",
    "        child1 = [] # increment layers\n",
    "        child2 = [] # decrement layers\n",
    "        for layer_number in parent:\n",
    "          if random.random() > mutation_rate: # change the number of neurons in each layer\n",
    "            child1.append(layer_number + 1)\n",
    "            if layer_number > 1:\n",
    "              child2.append(layer_number - 1)\n",
    "        if random.random() > mutation_rate: # add or remove a layer\n",
    "          child1.append(random.choice(range(1,12)))\n",
    "          if len(child2) > 2:\n",
    "            child2.pop()\n",
    "        for child in [child1, child2]:\n",
    "          new_generation.append(child)\n",
    "          new_gen_labels.append(str(child)[1:-1].replace(',', ''))\n",
    "      return new_generation, new_gen_labels\n",
    "\n",
    "    def create_initial_population():\n",
    "      organisms = []\n",
    "      organism_labels = []\n",
    "      for i in range(population_size):\n",
    "        organisms.append(np.random.choice(range(2,50), (random.choice(range(2,10)), )).tolist())\n",
    "        organism_labels.append(str(organisms[i]).replace(',', '')[1:-1])\n",
    "      return organisms, organism_labels\n",
    "\n",
    "    def find_fitness(organisms, organism_labels):\n",
    "      fitness = []\n",
    "      for organism, organism_label in zip(organisms, organism_labels):\n",
    "        self.generate_layers(organism)\n",
    "        self.train(nn_epochs, None)\n",
    "        fitness.append([organism_label, self.error])\n",
    "      fitness = sorted(fitness, key=lambda x: x[1])\n",
    "      fittest_list.append(fitness[0])\n",
    "      return fitness\n",
    "\n",
    "    fittest_list = [] # list of fittest organisms to be plotted.\n",
    "\n",
    "    organisms, organism_labels = create_initial_population()\n",
    "    fitness = find_fitness(organisms, organism_labels)\n",
    "\n",
    "    for _ in range(algorithm_epochs):\n",
    "      organisms, organism_labels = make_new_generation(fitness)\n",
    "      fitness = find_fitness(organisms, organism_labels)\n",
    "\n",
    "    self.x_labels = [label for label, x in fittest_list]\n",
    "    self.x_fitness = [x for label, x in fittest_list]\n",
    "\n",
    "    fig, ax = plt.subplots(figsize=(15,5))\n",
    "    ax = plt.plot(self.x_fitness)\n",
    "    plt.xticks(range(len(self.x_labels)), self.x_labels, rotation=90)\n",
    "    plt.show()\n",
    "\n",
    "  def find_best_bias(self, bias_range=np.arange(-5,5,.1), nn_epochs=400):\n",
    "    score = []\n",
    "    for i in bias_range:\n",
    "      self.generate_layers(self.hidden_layers)\n",
    "      self.bias = i\n",
    "      self.train(nn_epochs, None)\n",
    "      score.append(self.error)\n",
    "\n",
    "    self.bias_score = list(sorted(zip(score, bias_range), key=lambda x: x[0]))\n",
    "    self.bias_score_df = pd.DataFrame(nn.bias_score, columns=['Error', 'Bias'])\n",
    "\n",
    "    fig, ax = plt.subplots(figsize=(15,5))\n",
    "    plt.xticks([x for x in range(len(bias_range))[::2]], [str(round(x,2)) for x in bias_range[::2]], rotation=90)\n",
    "    ax = plt.plot(score)\n",
    "    plt.show()\n"
   ]
  },
  {
   "cell_type": "code",
   "execution_count": 8,
   "metadata": {},
   "outputs": [
    {
     "name": "stdout",
     "output_type": "stream",
     "text": [
      "Test error: 0.284975\t Validation Error: 0.168546\n",
      "Test error: 0.035949\t Validation Error: 0.044443\n",
      "Test error: 0.038464\t Validation Error: 0.045025\n",
      "Test error: 0.026052\t Validation Error: 0.029294\n",
      "Test error: 0.029696\t Validation Error: 0.029288\n",
      "Test error: 0.02522\t Validation Error: 0.028349\n",
      "Test error: 0.023547\t Validation Error: 0.028269\n",
      "Test error: 0.022271\t Validation Error: 0.027856\n"
     ]
    }
   ],
   "source": [
    "nn1 = NN(X, y, [50, 100], loss_function='mae', bias=-4.2, validation_percent=.20)\n",
    "nn1.train(2000, 250)"
   ]
  },
  {
   "cell_type": "code",
   "execution_count": 3,
   "metadata": {},
   "outputs": [],
   "source": [
    "# from SimpleNeural.SimpleNeural import NN, min_max_scale\n",
    "import pandas as pd\n",
    "import numpy as np"
   ]
  },
  {
   "cell_type": "code",
   "execution_count": 4,
   "metadata": {},
   "outputs": [],
   "source": [
    "df = pd.read_csv(r'./train.csv')\n",
    "pd.options.display.max_columns = 999"
   ]
  },
  {
   "cell_type": "code",
   "execution_count": 5,
   "metadata": {},
   "outputs": [
    {
     "data": {
      "text/html": [
       "<div>\n",
       "<style scoped>\n",
       "    .dataframe tbody tr th:only-of-type {\n",
       "        vertical-align: middle;\n",
       "    }\n",
       "\n",
       "    .dataframe tbody tr th {\n",
       "        vertical-align: top;\n",
       "    }\n",
       "\n",
       "    .dataframe thead th {\n",
       "        text-align: right;\n",
       "    }\n",
       "</style>\n",
       "<table border=\"1\" class=\"dataframe\">\n",
       "  <thead>\n",
       "    <tr style=\"text-align: right;\">\n",
       "      <th></th>\n",
       "      <th>SalePrice</th>\n",
       "      <th>OverallQual</th>\n",
       "      <th>GrLivArea</th>\n",
       "      <th>GarageCars</th>\n",
       "      <th>GarageArea</th>\n",
       "      <th>TotalBsmtSF</th>\n",
       "      <th>1stFlrSF</th>\n",
       "      <th>FullBath</th>\n",
       "      <th>TotRmsAbvGrd</th>\n",
       "      <th>YearBuilt</th>\n",
       "      <th>YearRemodAdd</th>\n",
       "      <th>GarageYrBlt</th>\n",
       "      <th>MasVnrArea</th>\n",
       "      <th>Fireplaces</th>\n",
       "      <th>BsmtFinSF1</th>\n",
       "      <th>LotFrontage</th>\n",
       "      <th>WoodDeckSF</th>\n",
       "      <th>2ndFlrSF</th>\n",
       "      <th>OpenPorchSF</th>\n",
       "      <th>HalfBath</th>\n",
       "      <th>LotArea</th>\n",
       "      <th>BsmtFullBath</th>\n",
       "      <th>BsmtUnfSF</th>\n",
       "      <th>BedroomAbvGr</th>\n",
       "      <th>KitchenAbvGr</th>\n",
       "      <th>EnclosedPorch</th>\n",
       "      <th>ScreenPorch</th>\n",
       "      <th>PoolArea</th>\n",
       "      <th>MSSubClass</th>\n",
       "      <th>OverallCond</th>\n",
       "      <th>MoSold</th>\n",
       "      <th>3SsnPorch</th>\n",
       "      <th>YrSold</th>\n",
       "      <th>LowQualFinSF</th>\n",
       "      <th>Id</th>\n",
       "      <th>MiscVal</th>\n",
       "      <th>BsmtHalfBath</th>\n",
       "      <th>BsmtFinSF2</th>\n",
       "    </tr>\n",
       "  </thead>\n",
       "  <tbody>\n",
       "    <tr>\n",
       "      <th>SalePrice</th>\n",
       "      <td>1.0</td>\n",
       "      <td>0.790972</td>\n",
       "      <td>0.708584</td>\n",
       "      <td>0.640383</td>\n",
       "      <td>0.623385</td>\n",
       "      <td>0.613792</td>\n",
       "      <td>0.605971</td>\n",
       "      <td>0.560604</td>\n",
       "      <td>0.533682</td>\n",
       "      <td>0.522877</td>\n",
       "      <td>0.507015</td>\n",
       "      <td>0.486264</td>\n",
       "      <td>0.477411</td>\n",
       "      <td>0.466828</td>\n",
       "      <td>0.386783</td>\n",
       "      <td>0.351896</td>\n",
       "      <td>0.328881</td>\n",
       "      <td>0.319193</td>\n",
       "      <td>0.31598</td>\n",
       "      <td>0.284626</td>\n",
       "      <td>0.263843</td>\n",
       "      <td>0.227551</td>\n",
       "      <td>0.214281</td>\n",
       "      <td>0.168272</td>\n",
       "      <td>0.135979</td>\n",
       "      <td>0.128695</td>\n",
       "      <td>0.111378</td>\n",
       "      <td>NaN</td>\n",
       "      <td>NaN</td>\n",
       "      <td>NaN</td>\n",
       "      <td>NaN</td>\n",
       "      <td>NaN</td>\n",
       "      <td>NaN</td>\n",
       "      <td>NaN</td>\n",
       "      <td>NaN</td>\n",
       "      <td>NaN</td>\n",
       "      <td>NaN</td>\n",
       "      <td>NaN</td>\n",
       "    </tr>\n",
       "  </tbody>\n",
       "</table>\n",
       "</div>"
      ],
      "text/plain": [
       "           SalePrice  OverallQual  GrLivArea  GarageCars  GarageArea  \\\n",
       "SalePrice        1.0     0.790972   0.708584    0.640383    0.623385   \n",
       "\n",
       "           TotalBsmtSF  1stFlrSF  FullBath  TotRmsAbvGrd  YearBuilt  \\\n",
       "SalePrice     0.613792  0.605971  0.560604      0.533682   0.522877   \n",
       "\n",
       "           YearRemodAdd  GarageYrBlt  MasVnrArea  Fireplaces  BsmtFinSF1  \\\n",
       "SalePrice      0.507015     0.486264    0.477411    0.466828    0.386783   \n",
       "\n",
       "           LotFrontage  WoodDeckSF  2ndFlrSF  OpenPorchSF  HalfBath   LotArea  \\\n",
       "SalePrice     0.351896    0.328881  0.319193      0.31598  0.284626  0.263843   \n",
       "\n",
       "           BsmtFullBath  BsmtUnfSF  BedroomAbvGr  KitchenAbvGr  EnclosedPorch  \\\n",
       "SalePrice      0.227551   0.214281      0.168272      0.135979       0.128695   \n",
       "\n",
       "           ScreenPorch  PoolArea  MSSubClass  OverallCond  MoSold  3SsnPorch  \\\n",
       "SalePrice     0.111378       NaN         NaN          NaN     NaN        NaN   \n",
       "\n",
       "           YrSold  LowQualFinSF  Id  MiscVal  BsmtHalfBath  BsmtFinSF2  \n",
       "SalePrice     NaN           NaN NaN      NaN           NaN         NaN  "
      ]
     },
     "execution_count": 5,
     "metadata": {},
     "output_type": "execute_result"
    }
   ],
   "source": [
    "df_corr = pd.DataFrame(abs(df.corr()['SalePrice']).sort_values(ascending=False))\n",
    "df_corr = df_corr[df_corr > .1].T\n",
    "df_corr"
   ]
  },
  {
   "cell_type": "code",
   "execution_count": 6,
   "metadata": {},
   "outputs": [
    {
     "name": "stderr",
     "output_type": "stream",
     "text": [
      "C:\\Users\\pluketina\\AppData\\Local\\Continuum\\anaconda3\\lib\\site-packages\\sklearn\\preprocessing\\data.py:334: DataConversionWarning: Data with input dtype int64 were all converted to float64 by MinMaxScaler.\n",
      "  return self.partial_fit(X, y)\n",
      "C:\\Users\\pluketina\\AppData\\Local\\Continuum\\anaconda3\\lib\\site-packages\\sklearn\\preprocessing\\data.py:334: DataConversionWarning: Data with input dtype int64, float64 were all converted to float64 by MinMaxScaler.\n",
      "  return self.partial_fit(X, y)\n"
     ]
    }
   ],
   "source": [
    "cols = df_corr.columns\n",
    "df = df.fillna(0)\n",
    "\n",
    "X = df[cols]\n",
    "y = pd.DataFrame(X.pop('SalePrice'))\n",
    "\n",
    "ymax, ymin = y.max(), y.min()\n",
    "\n",
    "y = min_max_scale(y)\n",
    "X = min_max_scale(X)"
   ]
  },
  {
   "cell_type": "code",
   "execution_count": 7,
   "metadata": {},
   "outputs": [
    {
     "data": {
      "image/png": "[encoded data removed]",
      "text/plain": [
       "<Figure size 1080x360 with 1 Axes>"
      ]
     },
     "metadata": {
      "needs_background": "light"
     },
     "output_type": "display_data"
    }
   ],
   "source": [
    "nn = NN(X, y, [50, 100])\n",
    "nn.find_best_bias(nn_epochs=100)"
   ]
  },
  {
   "cell_type": "code",
   "execution_count": 9,
   "metadata": {},
   "outputs": [
    {
     "data": {
      "text/html": [
       "<div>\n",
       "<style scoped>\n",
       "    .dataframe tbody tr th:only-of-type {\n",
       "        vertical-align: middle;\n",
       "    }\n",
       "\n",
       "    .dataframe tbody tr th {\n",
       "        vertical-align: top;\n",
       "    }\n",
       "\n",
       "    .dataframe thead th {\n",
       "        text-align: right;\n",
       "    }\n",
       "</style>\n",
       "<table border=\"1\" class=\"dataframe\">\n",
       "  <thead>\n",
       "    <tr style=\"text-align: right;\">\n",
       "      <th></th>\n",
       "      <th>Error</th>\n",
       "      <th>Bias</th>\n",
       "    </tr>\n",
       "  </thead>\n",
       "  <tbody>\n",
       "    <tr>\n",
       "      <th>0</th>\n",
       "      <td>0.036088</td>\n",
       "      <td>-4.4</td>\n",
       "    </tr>\n",
       "    <tr>\n",
       "      <th>1</th>\n",
       "      <td>0.046261</td>\n",
       "      <td>-4.1</td>\n",
       "    </tr>\n",
       "    <tr>\n",
       "      <th>2</th>\n",
       "      <td>0.046707</td>\n",
       "      <td>-4.2</td>\n",
       "    </tr>\n",
       "    <tr>\n",
       "      <th>3</th>\n",
       "      <td>0.046923</td>\n",
       "      <td>-4.0</td>\n",
       "    </tr>\n",
       "    <tr>\n",
       "      <th>4</th>\n",
       "      <td>0.047942</td>\n",
       "      <td>-4.3</td>\n",
       "    </tr>\n",
       "  </tbody>\n",
       "</table>\n",
       "</div>"
      ],
      "text/plain": [
       "      Error  Bias\n",
       "0  0.036088  -4.4\n",
       "1  0.046261  -4.1\n",
       "2  0.046707  -4.2\n",
       "3  0.046923  -4.0\n",
       "4  0.047942  -4.3"
      ]
     },
     "execution_count": 9,
     "metadata": {},
     "output_type": "execute_result"
    }
   ],
   "source": [
    "nn.bias_score_df[:5]"
   ]
  },
  {
   "cell_type": "code",
   "execution_count": 10,
   "metadata": {},
   "outputs": [
    {
     "data": {
      "image/png": "[encoded data removed]",
      "text/plain": [
       "<Figure size 1080x360 with 1 Axes>"
      ]
     },
     "metadata": {
      "needs_background": "light"
     },
     "output_type": "display_data"
    }
   ],
   "source": [
    "nn = NN(X, y, bias=-4.6)\n",
    "nn.genetic_alogrithm(10, nn_epochs=200)"
   ]
  },
  {
   "cell_type": "code",
   "execution_count": 11,
   "metadata": {},
   "outputs": [
    {
     "name": "stderr",
     "output_type": "stream",
     "text": [
      "C:\\Users\\pluketina\\AppData\\Local\\Continuum\\anaconda3\\lib\\site-packages\\sklearn\\preprocessing\\data.py:334: DataConversionWarning: Data with input dtype int64, float64 were all converted to float64 by MinMaxScaler.\n",
      "  return self.partial_fit(X, y)\n"
     ]
    },
    {
     "data": {
      "text/plain": [
       "array([[0.44444444, 0.10430887, 0.2       , ..., 0.        , 0.        ,\n",
       "        0.09436435],\n",
       "       [0.55555556, 0.19667235, 0.2       , ..., 0.73529412, 0.        ,\n",
       "        0.        ],\n",
       "       [0.44444444, 0.26066553, 0.4       , ..., 0.        , 0.        ,\n",
       "        0.        ],\n",
       "       ...,\n",
       "       [0.44444444, 0.17427474, 0.4       , ..., 0.        , 0.        ,\n",
       "        0.        ],\n",
       "       [0.44444444, 0.12009386, 0.        , ..., 0.04117647, 0.5       ,\n",
       "        0.        ],\n",
       "       [0.66666667, 0.33980375, 0.6       , ..., 0.        , 0.        ,\n",
       "        0.        ]])"
      ]
     },
     "execution_count": 11,
     "metadata": {},
     "output_type": "execute_result"
    }
   ],
   "source": [
    "df_test = pd.read_csv('./test.csv')\n",
    "df_test.fillna(0, inplace=True)\n",
    "df_test = df_test[[c for c in cols if c != 'SalePrice']]\n",
    "df_test.tail()\n",
    "\n",
    "X = min_max_scale(df_test)\n",
    "X"
   ]
  },
  {
   "cell_type": "code",
   "execution_count": 12,
   "metadata": {},
   "outputs": [
    {
     "data": {
      "text/plain": [
       "array([[107255.51211241],\n",
       "       [132330.86134936],\n",
       "       [176390.61901332],\n",
       "       ...,\n",
       "       [175998.27387376],\n",
       "       [ 85965.97371758],\n",
       "       [239216.75398736]])"
      ]
     },
     "execution_count": 12,
     "metadata": {},
     "output_type": "execute_result"
    }
   ],
   "source": [
    "prediction = (nn1.predict(X) * [ymax-ymin]) + [ymin]\n",
    "prediction"
   ]
  },
  {
   "cell_type": "code",
   "execution_count": null,
   "metadata": {},
   "outputs": [],
   "source": [
    "df_final = pd.DataFrame(prediction)\n",
    "df_final['Id'] = df_final.index + 1461\n",
    "df_final = df_final.rename(columns={0:'SalePrice'})\n",
    "df_final = df_final[['Id', 'SalePrice']]\n",
    "df_final.head()"
   ]
  },
  {
   "cell_type": "code",
   "execution_count": null,
   "metadata": {},
   "outputs": [],
   "source": [
    "df_final.to_csv('output.csv', index=False)"
   ]
  },
  {
   "cell_type": "code",
   "execution_count": null,
   "metadata": {},
   "outputs": [],
   "source": []
  }
 ],
 "metadata": {
  "kernelspec": {
   "display_name": "Python 3",
   "language": "python",
   "name": "python3"
  },
  "language_info": {
   "codemirror_mode": {
    "name": "ipython",
    "version": 3
   },
   "file_extension": ".py",
   "mimetype": "text/x-python",
   "name": "python",
   "nbconvert_exporter": "python",
   "pygments_lexer": "ipython3",
   "version": "3.7.3"
  }
 },
 "nbformat": 4,
 "nbformat_minor": 2
}
