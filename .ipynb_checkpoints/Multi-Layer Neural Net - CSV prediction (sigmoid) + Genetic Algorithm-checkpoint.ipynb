{
 "cells": [
  {
   "cell_type": "code",
   "execution_count": 39,
   "metadata": {},
   "outputs": [],
   "source": [
    "import numpy as np\n",
    "import pandas as pd\n",
    "import random\n",
    "\n",
    "df = pd.read_csv(r'./train.csv')\n",
    "pd.options.display.max_columns = 999\n",
    "\n",
    "df_corr = pd.DataFrame(abs(df.corr()['SalePrice']).sort_values(ascending=False)).index\n",
    "cols = list(df_corr[:3]) + list(df_corr[-3:])\n",
    "\n",
    "X = df[cols].iloc[:100].drop('BsmtFinSF2', axis=1)\n",
    "y = X.pop('SalePrice')\n",
    "\n",
    "X = X.values\n",
    "y = y.values\n",
    "\n",
    "Xmin, Xmax = X.min(), X.max()\n",
    "ymin, ymax = y.min(), y.max()"
   ]
  },
  {
   "cell_type": "code",
   "execution_count": 40,
   "metadata": {},
   "outputs": [],
   "source": [
    "X = (X - Xmin) / (Xmax - Xmin)\n",
    "y = (y - ymin) / (ymax - ymin)"
   ]
  },
  {
   "cell_type": "code",
   "execution_count": 41,
   "metadata": {},
   "outputs": [],
   "source": [
    "np.random.seed(1)\n",
    "class NN:\n",
    "  def __init__(self, X, y, hidden_layers, loss_function='mae'):\n",
    "    self.X = np.array(X)\n",
    "    self.y = np.array(y)\n",
    "    self.y = self.y.reshape(self.y.shape[0], 1)\n",
    "    self.schema = [X.shape[1]] + hidden_layers + [self.y.shape[1]]\n",
    "    self.schema_len = range(len(self.schema[:-1]))\n",
    "    self.loss_function = loss_function\n",
    "    for i, layer in enumerate(self.schema[:-1]):\n",
    "      setattr(self, f'W{i}', np.random.uniform(-1, 1, (layer, self.schema[i+1])))\n",
    "\n",
    "      \n",
    "  # sigmoid\n",
    "  def nonlin(self, x, deriv=False):\n",
    "    if(deriv==True):\n",
    "      return x * (1 - x)\n",
    "    return 1/ (1 + np.exp(-x))\n",
    "  \n",
    "  \n",
    "  def forward(self, X=None):\n",
    "    if X:\n",
    "      self.l0 = np.array(X)\n",
    "    else:\n",
    "      self.l0 = self.X\n",
    "    for i in self.schema_len:\n",
    "      l, W = (getattr(self, j) for j in f'l{i} W{i}'.split())\n",
    "      setattr(self, f'l{i+1}', self.nonlin(l.dot(W)))\n",
    "    return getattr(self, f'l{len(self.schema_len)}')\n",
    "    \n",
    "  \n",
    "  def loss(self, error):\n",
    "    loss_dict = {\n",
    "      'mse': lambda x: np.mean(x**2),\n",
    "      'mae': lambda x: np.mean(abs(x)),\n",
    "    }\n",
    "    loss_function = loss_dict[self.loss_function]\n",
    "    return loss_function(error)\n",
    "    \n",
    "    \n",
    "  def backward(self):\n",
    "\n",
    "    # calculation loss\n",
    "    for i in reversed(self.schema_len):\n",
    "      i += 1\n",
    "      l = getattr(self, f'l{i}')\n",
    "      if i == len(self.schema_len):\n",
    "        error = self.y - l\n",
    "        self.error = self.loss(error)\n",
    "      else:\n",
    "        delta, W = (getattr(self, j) for j in f'l{i}delta W{i}'.split())\n",
    "        error = delta.dot(W.T)\n",
    "      setattr(self, f'l{i-1}delta', error * self.nonlin(l, deriv=True))\n",
    "      \n",
    "    # adjusting weights\n",
    "    for i in reversed(self.schema_len):\n",
    "      l, W, delta = (getattr(self, j) for j in f'l{i} W{i} l{i}delta'.split())\n",
    "      setattr(self, f'W{i}', W + l.T.dot(delta))\n",
    "    \n",
    "    \n",
    "  def train(self, epochs=1000, print_nth_epoch=100):\n",
    "    for j in range(epochs):\n",
    "      self.forward()\n",
    "      self.backward()\n",
    "      if print_nth_epoch and not j % print_nth_epoch:\n",
    "        print(f'Error: {self.error}')\n",
    "       \n",
    "      \n",
    "  def predict(self, x):\n",
    "    return self.forward(x)\n",
    "  \n",
    "  \n",
    "  def genetic_alogrithm(self, population_size=20, mutation_rate=0.05):\n",
    "    population = []\n",
    "    for i in range(population_size):\n",
    "      population.append(np.random.choice(range(2,10), random.choice(range(2,10),)))\n",
    "    print(population)"
   ]
  },
  {
   "cell_type": "code",
   "execution_count": 42,
   "metadata": {
    "scrolled": true
   },
   "outputs": [
    {
     "name": "stdout",
     "output_type": "stream",
     "text": [
      "Error: 0.20936008796387448\n",
      "Error: 0.13612277143770102\n",
      "Error: 0.09581197393535001\n",
      "Error: 0.0924980527077998\n",
      "Error: 0.0942365513606826\n"
     ]
    }
   ],
   "source": [
    "nn = NN(X, y, [4, 3, 2])\n",
    "nn.train(500, 100)"
   ]
  },
  {
   "cell_type": "code",
   "execution_count": 38,
   "metadata": {},
   "outputs": [
    {
     "name": "stdout",
     "output_type": "stream",
     "text": [
      "[array([6, 4, 6, 2]), array([7, 5]), array([3, 4, 9, 2, 6, 3, 9, 4]), array([9, 9, 4]), array([3, 2, 8, 3, 5, 9, 8, 9]), array([7, 6, 5, 7, 3, 5, 8, 2, 2]), array([4, 4, 9, 9, 9, 9]), array([3, 9]), array([5, 6, 4, 8, 8]), array([2, 2, 9, 9, 3]), array([3, 7, 5, 2, 2, 7, 7, 8, 6]), array([7, 8, 4]), array([6, 5]), array([7, 5, 9, 7, 2]), array([5, 6, 5, 6, 8, 6]), array([9, 9, 7, 6, 3, 2, 6, 4, 2]), array([7, 4, 9, 6, 3, 9, 3, 2]), array([4, 6, 6]), array([2, 6, 3, 8, 6, 3, 2]), array([4, 5, 3, 4, 6, 6, 9, 4])]\n"
     ]
    }
   ],
   "source": [
    "nn.genetic_alogrithm()"
   ]
  },
  {
   "cell_type": "code",
   "execution_count": 158,
   "metadata": {},
   "outputs": [
    {
     "name": "stdout",
     "output_type": "stream",
     "text": [
      "Error: 129571.0\n"
     ]
    }
   ],
   "source": [
    "place = 13\n",
    "\n",
    "prediction = nn.predict([X[place]]).reshape(1,)[0] * ymax\n",
    "actual = y[place] * ymax\n",
    "\n",
    "print(f'Error: {round(abs(prediction - actual))}')"
   ]
  },
  {
   "cell_type": "code",
   "execution_count": 35,
   "metadata": {},
   "outputs": [
    {
     "data": {
      "text/plain": [
       "array([7, 5])"
      ]
     },
     "execution_count": 35,
     "metadata": {},
     "output_type": "execute_result"
    }
   ],
   "source": []
  },
  {
   "cell_type": "code",
   "execution_count": null,
   "metadata": {},
   "outputs": [],
   "source": []
  }
 ],
 "metadata": {
  "kernelspec": {
   "display_name": "Python 3",
   "language": "python",
   "name": "python3"
  },
  "language_info": {
   "codemirror_mode": {
    "name": "ipython",
    "version": 3
   },
   "file_extension": ".py",
   "mimetype": "text/x-python",
   "name": "python",
   "nbconvert_exporter": "python",
   "pygments_lexer": "ipython3",
   "version": "3.7.3"
  }
 },
 "nbformat": 4,
 "nbformat_minor": 2
}
