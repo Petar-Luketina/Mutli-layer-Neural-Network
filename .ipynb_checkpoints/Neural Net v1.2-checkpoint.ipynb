{
 "cells": [
  {
   "cell_type": "code",
   "execution_count": 1,
   "metadata": {},
   "outputs": [],
   "source": [
    "from SimpleNeural.SimpleNeural import NN, min_max_scale\n",
    "import pandas as pd\n",
    "import numpy as np"
   ]
  },
  {
   "cell_type": "code",
   "execution_count": 4,
   "metadata": {},
   "outputs": [],
   "source": [
    "df = pd.read_csv(r'./csv/train.csv')\n",
    "pd.options.display.max_columns = 999"
   ]
  },
  {
   "cell_type": "code",
   "execution_count": 16,
   "metadata": {},
   "outputs": [
    {
     "data": {
      "text/html": [
       "<div>\n",
       "<style scoped>\n",
       "    .dataframe tbody tr th:only-of-type {\n",
       "        vertical-align: middle;\n",
       "    }\n",
       "\n",
       "    .dataframe tbody tr th {\n",
       "        vertical-align: top;\n",
       "    }\n",
       "\n",
       "    .dataframe thead th {\n",
       "        text-align: right;\n",
       "    }\n",
       "</style>\n",
       "<table border=\"1\" class=\"dataframe\">\n",
       "  <thead>\n",
       "    <tr style=\"text-align: right;\">\n",
       "      <th></th>\n",
       "      <th>SalePrice</th>\n",
       "      <th>OverallQual</th>\n",
       "      <th>GrLivArea</th>\n",
       "      <th>GarageCars</th>\n",
       "      <th>GarageArea</th>\n",
       "      <th>TotalBsmtSF</th>\n",
       "      <th>1stFlrSF</th>\n",
       "      <th>FullBath</th>\n",
       "      <th>TotRmsAbvGrd</th>\n",
       "      <th>YearBuilt</th>\n",
       "      <th>YearRemodAdd</th>\n",
       "      <th>GarageYrBlt</th>\n",
       "      <th>MasVnrArea</th>\n",
       "      <th>Fireplaces</th>\n",
       "      <th>BsmtFinSF1</th>\n",
       "      <th>LotFrontage</th>\n",
       "      <th>WoodDeckSF</th>\n",
       "      <th>2ndFlrSF</th>\n",
       "      <th>OpenPorchSF</th>\n",
       "      <th>HalfBath</th>\n",
       "      <th>LotArea</th>\n",
       "      <th>BsmtFullBath</th>\n",
       "      <th>BsmtUnfSF</th>\n",
       "      <th>BedroomAbvGr</th>\n",
       "      <th>KitchenAbvGr</th>\n",
       "      <th>EnclosedPorch</th>\n",
       "      <th>ScreenPorch</th>\n",
       "      <th>PoolArea</th>\n",
       "      <th>MSSubClass</th>\n",
       "      <th>OverallCond</th>\n",
       "      <th>MoSold</th>\n",
       "      <th>3SsnPorch</th>\n",
       "      <th>YrSold</th>\n",
       "      <th>LowQualFinSF</th>\n",
       "      <th>Id</th>\n",
       "      <th>MiscVal</th>\n",
       "      <th>BsmtHalfBath</th>\n",
       "      <th>BsmtFinSF2</th>\n",
       "    </tr>\n",
       "  </thead>\n",
       "  <tbody>\n",
       "    <tr>\n",
       "      <th>SalePrice</th>\n",
       "      <td>1.0</td>\n",
       "      <td>0.790972</td>\n",
       "      <td>0.708584</td>\n",
       "      <td>0.640383</td>\n",
       "      <td>0.623385</td>\n",
       "      <td>0.613792</td>\n",
       "      <td>0.605971</td>\n",
       "      <td>0.560604</td>\n",
       "      <td>0.533682</td>\n",
       "      <td>0.522877</td>\n",
       "      <td>0.507015</td>\n",
       "      <td>0.486264</td>\n",
       "      <td>0.477411</td>\n",
       "      <td>0.466828</td>\n",
       "      <td>0.386783</td>\n",
       "      <td>0.351896</td>\n",
       "      <td>0.328881</td>\n",
       "      <td>0.319193</td>\n",
       "      <td>0.31598</td>\n",
       "      <td>0.284626</td>\n",
       "      <td>0.263843</td>\n",
       "      <td>0.227551</td>\n",
       "      <td>0.214281</td>\n",
       "      <td>0.168272</td>\n",
       "      <td>0.135979</td>\n",
       "      <td>0.128695</td>\n",
       "      <td>0.111378</td>\n",
       "      <td>NaN</td>\n",
       "      <td>NaN</td>\n",
       "      <td>NaN</td>\n",
       "      <td>NaN</td>\n",
       "      <td>NaN</td>\n",
       "      <td>NaN</td>\n",
       "      <td>NaN</td>\n",
       "      <td>NaN</td>\n",
       "      <td>NaN</td>\n",
       "      <td>NaN</td>\n",
       "      <td>NaN</td>\n",
       "    </tr>\n",
       "  </tbody>\n",
       "</table>\n",
       "</div>"
      ],
      "text/plain": [
       "           SalePrice  OverallQual  GrLivArea  GarageCars  GarageArea  \\\n",
       "SalePrice        1.0     0.790972   0.708584    0.640383    0.623385   \n",
       "\n",
       "           TotalBsmtSF  1stFlrSF  FullBath  TotRmsAbvGrd  YearBuilt  \\\n",
       "SalePrice     0.613792  0.605971  0.560604      0.533682   0.522877   \n",
       "\n",
       "           YearRemodAdd  GarageYrBlt  MasVnrArea  Fireplaces  BsmtFinSF1  \\\n",
       "SalePrice      0.507015     0.486264    0.477411    0.466828    0.386783   \n",
       "\n",
       "           LotFrontage  WoodDeckSF  2ndFlrSF  OpenPorchSF  HalfBath   LotArea  \\\n",
       "SalePrice     0.351896    0.328881  0.319193      0.31598  0.284626  0.263843   \n",
       "\n",
       "           BsmtFullBath  BsmtUnfSF  BedroomAbvGr  KitchenAbvGr  EnclosedPorch  \\\n",
       "SalePrice      0.227551   0.214281      0.168272      0.135979       0.128695   \n",
       "\n",
       "           ScreenPorch  PoolArea  MSSubClass  OverallCond  MoSold  3SsnPorch  \\\n",
       "SalePrice     0.111378       NaN         NaN          NaN     NaN        NaN   \n",
       "\n",
       "           YrSold  LowQualFinSF  Id  MiscVal  BsmtHalfBath  BsmtFinSF2  \n",
       "SalePrice     NaN           NaN NaN      NaN           NaN         NaN  "
      ]
     },
     "execution_count": 16,
     "metadata": {},
     "output_type": "execute_result"
    }
   ],
   "source": [
    "df_corr = pd.DataFrame(abs(df.corr()['SalePrice']).sort_values(ascending=False))\n",
    "df_corr = df_corr[df_corr > .1].T\n",
    "df_corr"
   ]
  },
  {
   "cell_type": "code",
   "execution_count": 20,
   "metadata": {},
   "outputs": [
    {
     "name": "stdout",
     "output_type": "stream",
     "text": [
      "  RoofMatl\n",
      "{'CompShg': 1433, 'Tar&Grv': 11, 'WdShngl': 6, 'WdShake': 5, 'Roll': 1, 'Membran': 1, 'Metal': 1, 'ClyTile': 1} \n",
      "\n",
      "  BsmtFinType2\n",
      "{'Unf': 1256, 'Rec': 54, 'LwQ': 45, 'BLQ': 33, 'ALQ': 19, 'GLQ': 14} \n",
      "\n",
      "  PoolQC\n",
      "{'Gd': 3, 'Ex': 2, 'Fa': 2} \n",
      "\n",
      "  ExterCond\n",
      "{'TA': 1281, 'Gd': 146, 'Fa': 28, 'Ex': 3, 'Po': 1} \n",
      "\n",
      "  BldgType\n",
      "{'1Fam': 1219, 'TwnhsE': 114, 'Duplex': 52, 'Twnhs': 43, '2fmCon': 31} \n",
      "\n",
      "  MasVnrType\n",
      "{'None': 863, 'BrkFace': 445, 'Stone': 128, 'BrkCmn': 15} \n",
      "\n",
      "  Condition2\n",
      "{'Norm': 1444, 'Feedr': 6, 'PosN': 2, 'Artery': 2, 'RRNn': 2, 'PosA': 1, 'RRAe': 1, 'RRAn': 1} \n",
      "\n",
      "  GarageFinish\n",
      "{'Unf': 605, 'RFn': 422, 'Fin': 351} \n",
      "\n",
      "  LotShape\n",
      "{'Reg': 924, 'IR1': 484, 'IR2': 41, 'IR3': 10} \n",
      "\n",
      "  HeatingQC\n",
      "{'Ex': 741, 'TA': 428, 'Gd': 240, 'Fa': 49, 'Po': 1} \n",
      "\n",
      "  MiscFeature\n",
      "{'Shed': 49, 'Othr': 2, 'Gar2': 2, 'TenC': 1} \n",
      "\n",
      "  SaleCondition\n",
      "{'Normal': 1197, 'Partial': 125, 'Abnorml': 101, 'Family': 20, 'Alloca': 12, 'AdjLand': 4} \n",
      "\n",
      "  Electrical\n",
      "{'SBrkr': 1333, 'FuseA': 94, 'FuseF': 27, 'FuseP': 3, 'Mix': 1} \n",
      "\n",
      "  LandSlope\n",
      "{'Gtl': 1381, 'Mod': 65, 'Sev': 13} \n",
      "\n",
      "  Fence\n",
      "{'MnPrv': 157, 'GdPrv': 59, 'GdWo': 54, 'MnWw': 11} \n",
      "\n",
      "  Exterior2nd\n",
      "{'VinylSd': 504, 'MetalSd': 214, 'HdBoard': 206, 'Wd Sdng': 197, 'Plywood': 142, 'CmentBd': 60, 'Wd Shng': 38, 'Stucco': 26, 'BrkFace': 25, 'AsbShng': 20, 'ImStucc': 10, 'Brk Cmn': 7, 'Stone': 5, 'AsphShn': 3, 'Other': 1, 'CBlock': 1} \n",
      "\n",
      "  HouseStyle\n",
      "{'1Story': 725, '2Story': 445, '1.5Fin': 154, 'SLvl': 65, 'SFoyer': 37, '1.5Unf': 14, '2.5Unf': 11, '2.5Fin': 8} \n",
      "\n",
      "  BsmtCond\n",
      "{'TA': 1310, 'Gd': 65, 'Fa': 45, 'Po': 2} \n",
      "\n",
      "  Utilities\n",
      "{'AllPub': 1458, 'NoSeWa': 1} \n",
      "\n",
      "  RoofStyle\n",
      "{'Gable': 1140, 'Hip': 286, 'Flat': 13, 'Gambrel': 11, 'Mansard': 7, 'Shed': 2} \n",
      "\n",
      "  GarageQual\n",
      "{'TA': 1310, 'Fa': 48, 'Gd': 14, 'Po': 3, 'Ex': 3} \n",
      "\n",
      "  LotConfig\n",
      "{'Inside': 1051, 'Corner': 263, 'CulDSac': 94, 'FR2': 47, 'FR3': 4} \n",
      "\n",
      "  GarageType\n",
      "{'Attchd': 869, 'Detchd': 387, 'BuiltIn': 88, 'Basment': 19, 'CarPort': 9, '2Types': 6} \n",
      "\n",
      "  BsmtQual\n",
      "{'TA': 648, 'Gd': 618, 'Ex': 121, 'Fa': 35} \n",
      "\n",
      "  Neighborhood\n",
      "{'NAmes': 225, 'CollgCr': 150, 'OldTown': 113, 'Edwards': 99, 'Somerst': 86, 'Gilbert': 79, 'NridgHt': 77, 'Sawyer': 74, 'NWAmes': 73, 'SawyerW': 59, 'BrkSide': 58, 'Crawfor': 51, 'Mitchel': 49, 'NoRidge': 41, 'Timber': 38, 'IDOTRR': 37, 'ClearCr': 28, 'StoneBr': 25, 'SWISU': 25, 'MeadowV': 17, 'Blmngtn': 17, 'BrDale': 16, 'Veenker': 11, 'NPkVill': 9, 'Blueste': 2} \n",
      "\n",
      "  PavedDrive\n",
      "{'Y': 1339, 'N': 90, 'P': 30} \n",
      "\n",
      "  FireplaceQu\n",
      "{'Gd': 380, 'TA': 313, 'Fa': 33, 'Ex': 24, 'Po': 20} \n",
      "\n",
      "  LandContour\n",
      "{'Lvl': 1310, 'Bnk': 63, 'HLS': 50, 'Low': 36} \n",
      "\n",
      "  Heating\n",
      "{'GasA': 1427, 'GasW': 18, 'Grav': 7, 'Wall': 4, 'OthW': 2, 'Floor': 1} \n",
      "\n",
      "  ExterQual\n",
      "{'TA': 906, 'Gd': 487, 'Ex': 52, 'Fa': 14} \n",
      "\n",
      "  Condition1\n",
      "{'Norm': 1259, 'Feedr': 81, 'Artery': 48, 'RRAn': 26, 'PosN': 19, 'RRAe': 11, 'PosA': 8, 'RRNn': 5, 'RRNe': 2} \n",
      "\n",
      "  GarageCond\n",
      "{'TA': 1325, 'Fa': 35, 'Gd': 9, 'Po': 7, 'Ex': 2} \n",
      "\n",
      "  Foundation\n",
      "{'PConc': 647, 'CBlock': 633, 'BrkTil': 146, 'Slab': 24, 'Stone': 6, 'Wood': 3} \n",
      "\n",
      "  CentralAir\n",
      "{'Y': 1364, 'N': 95} \n",
      "\n",
      "  Alley\n",
      "{'Grvl': 50, 'Pave': 41} \n",
      "\n",
      "  Exterior1st\n",
      "{'VinylSd': 515, 'HdBoard': 221, 'MetalSd': 220, 'Wd Sdng': 206, 'Plywood': 108, 'CemntBd': 61, 'BrkFace': 50, 'WdShing': 26, 'Stucco': 25, 'AsbShng': 20, 'Stone': 2, 'BrkComm': 2, 'AsphShn': 1, 'CBlock': 1, 'ImStucc': 1} \n",
      "\n",
      "  BsmtExposure\n",
      "{'No': 952, 'Av': 221, 'Gd': 134, 'Mn': 114} \n",
      "\n",
      "  SaleType\n",
      "{'WD': 1266, 'New': 122, 'COD': 43, 'ConLD': 9, 'ConLI': 5, 'ConLw': 5, 'CWD': 4, 'Oth': 3, 'Con': 2} \n",
      "\n",
      "  KitchenQual\n",
      "{'TA': 734, 'Gd': 586, 'Ex': 100, 'Fa': 39} \n",
      "\n",
      "  BsmtFinType1\n",
      "{'Unf': 430, 'GLQ': 418, 'ALQ': 220, 'BLQ': 147, 'Rec': 133, 'LwQ': 74} \n",
      "\n",
      "  Street\n",
      "{'Pave': 1453, 'Grvl': 6} \n",
      "\n",
      "  Functional\n",
      "{'Typ': 1359, 'Min2': 34, 'Min1': 31, 'Mod': 15, 'Maj1': 14, 'Maj2': 5, 'Sev': 1} \n",
      "\n",
      "  MSZoning\n",
      "{'RL': 1150, 'RM': 218, 'FV': 65, 'RH': 16, 'C (all)': 10} \n",
      "\n"
     ]
    }
   ],
   "source": [
    "for i in df[list(set(df.columns) - set(df_corr.columns))]:\n",
    "  print(f'  {i}')\n",
    "  print(dict(df[i].value_counts()), '\\n')"
   ]
  },
  {
   "cell_type": "code",
   "execution_count": null,
   "metadata": {},
   "outputs": [],
   "source": [
    "cat_cols = ['MasVnrType', 'Exterior2nd', 'GarageType', 'Neighborhood', 'Foundation']\n",
    "ord_cols = ['HeatingQC', 'LandSlope', 'BsmtCond', 'GarageQual',\n",
    "            'FireplaceQu', 'ExterQual', 'Exterior1st', 'KitchenQual']"
   ]
  },
  {
   "cell_type": "code",
   "execution_count": 71,
   "metadata": {},
   "outputs": [
    {
     "name": "stderr",
     "output_type": "stream",
     "text": [
      "C:\\Users\\pluketina\\AppData\\Local\\Continuum\\anaconda3\\lib\\site-packages\\sklearn\\preprocessing\\data.py:334: DataConversionWarning: Data with input dtype int64 were all converted to float64 by MinMaxScaler.\n",
      "  return self.partial_fit(X, y)\n",
      "C:\\Users\\pluketina\\AppData\\Local\\Continuum\\anaconda3\\lib\\site-packages\\sklearn\\preprocessing\\data.py:334: DataConversionWarning: Data with input dtype int64, float64 were all converted to float64 by MinMaxScaler.\n",
      "  return self.partial_fit(X, y)\n"
     ]
    }
   ],
   "source": [
    "cols = df_corr.columns\n",
    "df = df.fillna(0)\n",
    "\n",
    "X = df[cols]\n",
    "y = pd.DataFrame(X.pop('SalePrice'))\n",
    "\n",
    "ymax, ymin = y.max(), y.min()\n",
    "\n",
    "y = min_max_scale(y)\n",
    "X = min_max_scale(X)"
   ]
  },
  {
   "cell_type": "code",
   "execution_count": 84,
   "metadata": {},
   "outputs": [
    {
     "name": "stdout",
     "output_type": "stream",
     "text": [
      "Test error: 0.283638\t Validation Error: 0.171534\n",
      "Test error: 0.037345\t Validation Error: 0.045213\n",
      "Test error: 0.034465\t Validation Error: 0.038905\n",
      "Test error: 0.032814\t Validation Error: 0.035273\n",
      "Test error: 0.031448\t Validation Error: 0.032808\n",
      "Test error: 0.030359\t Validation Error: 0.030873\n",
      "Test error: 0.034758\t Validation Error: 0.036699\n",
      "Test error: 0.028892\t Validation Error: 0.029616\n",
      "Test error: 0.027453\t Validation Error: 0.027629\n",
      "Test error: 0.026335\t Validation Error: 0.0264\n"
     ]
    }
   ],
   "source": [
    "nn1 = NN(X, y, [50, 100], loss_function='mae', bias=-4.2, validation_percent=.1)\n",
    "nn1.train(2000, 200)"
   ]
  },
  {
   "cell_type": "code",
   "execution_count": 85,
   "metadata": {
    "scrolled": false
   },
   "outputs": [
    {
     "data": {
      "image/png": "[encoded data removed]",
      "text/plain": [
       "<Figure size 1440x720 with 1 Axes>"
      ]
     },
     "metadata": {},
     "output_type": "display_data"
    }
   ],
   "source": [
    "nn1.plot_test_validation()"
   ]
  },
  {
   "cell_type": "code",
   "execution_count": 91,
   "metadata": {},
   "outputs": [
    {
     "name": "stdout",
     "output_type": "stream",
     "text": [
      "Test error: 0.284075\n",
      "Test error: 0.094605\n",
      "Test error: 0.076074\n",
      "Test error: 0.080059\n",
      "Test error: 0.061378\n",
      "Test error: 0.052853\n",
      "Test error: 0.06225\n",
      "Test error: 0.057917\n",
      "Test error: 0.054141\n",
      "Test error: 0.050848\n"
     ]
    }
   ],
   "source": [
    "nn = NN(X, y, [50, 100], loss_function='mae', bias=-4.2, validation_set=False)\n",
    "nn.train(100,10)"
   ]
  },
  {
   "cell_type": "code",
   "execution_count": 7,
   "metadata": {},
   "outputs": [
    {
     "data": {
      "image/png": "[encoded data removed]",
      "text/plain": [
       "<Figure size 1080x360 with 1 Axes>"
      ]
     },
     "metadata": {
      "needs_background": "light"
     },
     "output_type": "display_data"
    }
   ],
   "source": [
    "nn = NN(X, y, [50, 100])\n",
    "nn.find_best_bias(nn_epochs=100)"
   ]
  },
  {
   "cell_type": "code",
   "execution_count": 9,
   "metadata": {},
   "outputs": [
    {
     "data": {
      "text/html": [
       "<div>\n",
       "<style scoped>\n",
       "    .dataframe tbody tr th:only-of-type {\n",
       "        vertical-align: middle;\n",
       "    }\n",
       "\n",
       "    .dataframe tbody tr th {\n",
       "        vertical-align: top;\n",
       "    }\n",
       "\n",
       "    .dataframe thead th {\n",
       "        text-align: right;\n",
       "    }\n",
       "</style>\n",
       "<table border=\"1\" class=\"dataframe\">\n",
       "  <thead>\n",
       "    <tr style=\"text-align: right;\">\n",
       "      <th></th>\n",
       "      <th>Error</th>\n",
       "      <th>Bias</th>\n",
       "    </tr>\n",
       "  </thead>\n",
       "  <tbody>\n",
       "    <tr>\n",
       "      <th>0</th>\n",
       "      <td>0.036088</td>\n",
       "      <td>-4.4</td>\n",
       "    </tr>\n",
       "    <tr>\n",
       "      <th>1</th>\n",
       "      <td>0.046261</td>\n",
       "      <td>-4.1</td>\n",
       "    </tr>\n",
       "    <tr>\n",
       "      <th>2</th>\n",
       "      <td>0.046707</td>\n",
       "      <td>-4.2</td>\n",
       "    </tr>\n",
       "    <tr>\n",
       "      <th>3</th>\n",
       "      <td>0.046923</td>\n",
       "      <td>-4.0</td>\n",
       "    </tr>\n",
       "    <tr>\n",
       "      <th>4</th>\n",
       "      <td>0.047942</td>\n",
       "      <td>-4.3</td>\n",
       "    </tr>\n",
       "  </tbody>\n",
       "</table>\n",
       "</div>"
      ],
      "text/plain": [
       "      Error  Bias\n",
       "0  0.036088  -4.4\n",
       "1  0.046261  -4.1\n",
       "2  0.046707  -4.2\n",
       "3  0.046923  -4.0\n",
       "4  0.047942  -4.3"
      ]
     },
     "execution_count": 9,
     "metadata": {},
     "output_type": "execute_result"
    }
   ],
   "source": [
    "nn.bias_score_df[:5]"
   ]
  },
  {
   "cell_type": "code",
   "execution_count": 10,
   "metadata": {},
   "outputs": [
    {
     "data": {
      "image/png": "[encoded data removed]",
      "text/plain": [
       "<Figure size 1080x360 with 1 Axes>"
      ]
     },
     "metadata": {
      "needs_background": "light"
     },
     "output_type": "display_data"
    }
   ],
   "source": [
    "nn = NN(X, y, bias=-4.6)\n",
    "nn.genetic_alogrithm(10, nn_epochs=200)"
   ]
  },
  {
   "cell_type": "code",
   "execution_count": 92,
   "metadata": {},
   "outputs": [
    {
     "name": "stderr",
     "output_type": "stream",
     "text": [
      "C:\\Users\\pluketina\\AppData\\Local\\Continuum\\anaconda3\\lib\\site-packages\\sklearn\\preprocessing\\data.py:334: DataConversionWarning: Data with input dtype int64, float64 were all converted to float64 by MinMaxScaler.\n",
      "  return self.partial_fit(X, y)\n"
     ]
    }
   ],
   "source": [
    "df_test = pd.read_csv('./csv/test.csv')\n",
    "df_test.fillna(0, inplace=True)\n",
    "df_test = df_test[[c for c in cols if c != 'SalePrice']]\n",
    "df_test.tail()\n",
    "\n",
    "X = min_max_scale(df_test)"
   ]
  },
  {
   "cell_type": "code",
   "execution_count": 98,
   "metadata": {},
   "outputs": [
    {
     "data": {
      "text/plain": [
       "array([[126170.37656715],\n",
       "       [140039.20644207],\n",
       "       [217973.48719281],\n",
       "       ...,\n",
       "       [183817.70173442],\n",
       "       [131023.90313402],\n",
       "       [253748.09711136]])"
      ]
     },
     "execution_count": 98,
     "metadata": {},
     "output_type": "execute_result"
    }
   ],
   "source": [
    "prediction = (nn.predict(X) * [ymax-ymin]) + [ymin]\n",
    "prediction"
   ]
  },
  {
   "cell_type": "code",
   "execution_count": 99,
   "metadata": {},
   "outputs": [
    {
     "data": {
      "text/html": [
       "<div>\n",
       "<style scoped>\n",
       "    .dataframe tbody tr th:only-of-type {\n",
       "        vertical-align: middle;\n",
       "    }\n",
       "\n",
       "    .dataframe tbody tr th {\n",
       "        vertical-align: top;\n",
       "    }\n",
       "\n",
       "    .dataframe thead th {\n",
       "        text-align: right;\n",
       "    }\n",
       "</style>\n",
       "<table border=\"1\" class=\"dataframe\">\n",
       "  <thead>\n",
       "    <tr style=\"text-align: right;\">\n",
       "      <th></th>\n",
       "      <th>Id</th>\n",
       "      <th>SalePrice</th>\n",
       "    </tr>\n",
       "  </thead>\n",
       "  <tbody>\n",
       "    <tr>\n",
       "      <th>0</th>\n",
       "      <td>1461</td>\n",
       "      <td>126170.376567</td>\n",
       "    </tr>\n",
       "    <tr>\n",
       "      <th>1</th>\n",
       "      <td>1462</td>\n",
       "      <td>140039.206442</td>\n",
       "    </tr>\n",
       "    <tr>\n",
       "      <th>2</th>\n",
       "      <td>1463</td>\n",
       "      <td>217973.487193</td>\n",
       "    </tr>\n",
       "    <tr>\n",
       "      <th>3</th>\n",
       "      <td>1464</td>\n",
       "      <td>219877.608928</td>\n",
       "    </tr>\n",
       "    <tr>\n",
       "      <th>4</th>\n",
       "      <td>1465</td>\n",
       "      <td>178338.487901</td>\n",
       "    </tr>\n",
       "  </tbody>\n",
       "</table>\n",
       "</div>"
      ],
      "text/plain": [
       "     Id      SalePrice\n",
       "0  1461  126170.376567\n",
       "1  1462  140039.206442\n",
       "2  1463  217973.487193\n",
       "3  1464  219877.608928\n",
       "4  1465  178338.487901"
      ]
     },
     "execution_count": 99,
     "metadata": {},
     "output_type": "execute_result"
    }
   ],
   "source": [
    "df_final = pd.DataFrame(prediction)\n",
    "df_final['Id'] = df_final.index + 1461\n",
    "df_final = df_final.rename(columns={0:'SalePrice'})\n",
    "df_final = df_final[['Id', 'SalePrice']]\n",
    "df_final.head()"
   ]
  },
  {
   "cell_type": "code",
   "execution_count": 100,
   "metadata": {},
   "outputs": [],
   "source": [
    "df_final.to_csv('csv/output.csv', index=False)"
   ]
  },
  {
   "cell_type": "code",
   "execution_count": null,
   "metadata": {},
   "outputs": [],
   "source": []
  }
 ],
 "metadata": {
  "kernelspec": {
   "display_name": "Python 3",
   "language": "python",
   "name": "python3"
  },
  "language_info": {
   "codemirror_mode": {
    "name": "ipython",
    "version": 3
   },
   "file_extension": ".py",
   "mimetype": "text/x-python",
   "name": "python",
   "nbconvert_exporter": "python",
   "pygments_lexer": "ipython3",
   "version": "3.7.3"
  }
 },
 "nbformat": 4,
 "nbformat_minor": 2
}
