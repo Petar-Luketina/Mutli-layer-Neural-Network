{
 "cells": [
  {
   "cell_type": "code",
   "execution_count": 36,
   "metadata": {},
   "outputs": [],
   "source": [
    "from SimpleNeural.SimpleNeural import NN, min_max_scale\n",
    "import pandas as pd\n",
    "import numpy as np"
   ]
  },
  {
   "cell_type": "code",
   "execution_count": 2,
   "metadata": {},
   "outputs": [],
   "source": [
    "df = pd.read_csv(r'./train.csv')\n",
    "pd.options.display.max_columns = 999"
   ]
  },
  {
   "cell_type": "code",
   "execution_count": 3,
   "metadata": {},
   "outputs": [
    {
     "data": {
      "text/html": [
       "<div>\n",
       "<style scoped>\n",
       "    .dataframe tbody tr th:only-of-type {\n",
       "        vertical-align: middle;\n",
       "    }\n",
       "\n",
       "    .dataframe tbody tr th {\n",
       "        vertical-align: top;\n",
       "    }\n",
       "\n",
       "    .dataframe thead th {\n",
       "        text-align: right;\n",
       "    }\n",
       "</style>\n",
       "<table border=\"1\" class=\"dataframe\">\n",
       "  <thead>\n",
       "    <tr style=\"text-align: right;\">\n",
       "      <th></th>\n",
       "      <th>SalePrice</th>\n",
       "      <th>OverallQual</th>\n",
       "      <th>GrLivArea</th>\n",
       "      <th>GarageCars</th>\n",
       "      <th>GarageArea</th>\n",
       "      <th>TotalBsmtSF</th>\n",
       "      <th>1stFlrSF</th>\n",
       "      <th>FullBath</th>\n",
       "      <th>TotRmsAbvGrd</th>\n",
       "      <th>YearBuilt</th>\n",
       "      <th>YearRemodAdd</th>\n",
       "      <th>GarageYrBlt</th>\n",
       "      <th>MasVnrArea</th>\n",
       "      <th>Fireplaces</th>\n",
       "      <th>BsmtFinSF1</th>\n",
       "      <th>LotFrontage</th>\n",
       "      <th>WoodDeckSF</th>\n",
       "      <th>2ndFlrSF</th>\n",
       "      <th>OpenPorchSF</th>\n",
       "      <th>HalfBath</th>\n",
       "      <th>LotArea</th>\n",
       "      <th>BsmtFullBath</th>\n",
       "      <th>BsmtUnfSF</th>\n",
       "      <th>BedroomAbvGr</th>\n",
       "      <th>KitchenAbvGr</th>\n",
       "      <th>EnclosedPorch</th>\n",
       "      <th>ScreenPorch</th>\n",
       "      <th>PoolArea</th>\n",
       "      <th>MSSubClass</th>\n",
       "      <th>OverallCond</th>\n",
       "      <th>MoSold</th>\n",
       "      <th>3SsnPorch</th>\n",
       "      <th>YrSold</th>\n",
       "      <th>LowQualFinSF</th>\n",
       "      <th>Id</th>\n",
       "      <th>MiscVal</th>\n",
       "      <th>BsmtHalfBath</th>\n",
       "      <th>BsmtFinSF2</th>\n",
       "    </tr>\n",
       "  </thead>\n",
       "  <tbody>\n",
       "    <tr>\n",
       "      <th>SalePrice</th>\n",
       "      <td>1.0</td>\n",
       "      <td>0.790972</td>\n",
       "      <td>0.708584</td>\n",
       "      <td>0.640383</td>\n",
       "      <td>0.623385</td>\n",
       "      <td>0.613792</td>\n",
       "      <td>0.605971</td>\n",
       "      <td>0.560604</td>\n",
       "      <td>0.533682</td>\n",
       "      <td>0.522877</td>\n",
       "      <td>0.507015</td>\n",
       "      <td>0.486264</td>\n",
       "      <td>0.477411</td>\n",
       "      <td>0.466828</td>\n",
       "      <td>0.386783</td>\n",
       "      <td>0.351896</td>\n",
       "      <td>0.328881</td>\n",
       "      <td>0.319193</td>\n",
       "      <td>0.31598</td>\n",
       "      <td>0.284626</td>\n",
       "      <td>0.263843</td>\n",
       "      <td>0.227551</td>\n",
       "      <td>0.214281</td>\n",
       "      <td>0.168272</td>\n",
       "      <td>0.135979</td>\n",
       "      <td>0.128695</td>\n",
       "      <td>0.111378</td>\n",
       "      <td>NaN</td>\n",
       "      <td>NaN</td>\n",
       "      <td>NaN</td>\n",
       "      <td>NaN</td>\n",
       "      <td>NaN</td>\n",
       "      <td>NaN</td>\n",
       "      <td>NaN</td>\n",
       "      <td>NaN</td>\n",
       "      <td>NaN</td>\n",
       "      <td>NaN</td>\n",
       "      <td>NaN</td>\n",
       "    </tr>\n",
       "  </tbody>\n",
       "</table>\n",
       "</div>"
      ],
      "text/plain": [
       "           SalePrice  OverallQual  GrLivArea  GarageCars  GarageArea  \\\n",
       "SalePrice        1.0     0.790972   0.708584    0.640383    0.623385   \n",
       "\n",
       "           TotalBsmtSF  1stFlrSF  FullBath  TotRmsAbvGrd  YearBuilt  \\\n",
       "SalePrice     0.613792  0.605971  0.560604      0.533682   0.522877   \n",
       "\n",
       "           YearRemodAdd  GarageYrBlt  MasVnrArea  Fireplaces  BsmtFinSF1  \\\n",
       "SalePrice      0.507015     0.486264    0.477411    0.466828    0.386783   \n",
       "\n",
       "           LotFrontage  WoodDeckSF  2ndFlrSF  OpenPorchSF  HalfBath   LotArea  \\\n",
       "SalePrice     0.351896    0.328881  0.319193      0.31598  0.284626  0.263843   \n",
       "\n",
       "           BsmtFullBath  BsmtUnfSF  BedroomAbvGr  KitchenAbvGr  EnclosedPorch  \\\n",
       "SalePrice      0.227551   0.214281      0.168272      0.135979       0.128695   \n",
       "\n",
       "           ScreenPorch  PoolArea  MSSubClass  OverallCond  MoSold  3SsnPorch  \\\n",
       "SalePrice     0.111378       NaN         NaN          NaN     NaN        NaN   \n",
       "\n",
       "           YrSold  LowQualFinSF  Id  MiscVal  BsmtHalfBath  BsmtFinSF2  \n",
       "SalePrice     NaN           NaN NaN      NaN           NaN         NaN  "
      ]
     },
     "execution_count": 3,
     "metadata": {},
     "output_type": "execute_result"
    }
   ],
   "source": [
    "df_corr = pd.DataFrame(abs(df.corr()['SalePrice']).sort_values(ascending=False))\n",
    "df_corr = df_corr[df_corr > .1].T\n",
    "df_corr"
   ]
  },
  {
   "cell_type": "code",
   "execution_count": 11,
   "metadata": {},
   "outputs": [
    {
     "name": "stderr",
     "output_type": "stream",
     "text": [
      "C:\\Users\\pluketina\\AppData\\Local\\Continuum\\anaconda3\\lib\\site-packages\\sklearn\\preprocessing\\data.py:334: DataConversionWarning: Data with input dtype int64 were all converted to float64 by MinMaxScaler.\n",
      "  return self.partial_fit(X, y)\n",
      "C:\\Users\\pluketina\\AppData\\Local\\Continuum\\anaconda3\\lib\\site-packages\\sklearn\\preprocessing\\data.py:334: DataConversionWarning: Data with input dtype int64, float64 were all converted to float64 by MinMaxScaler.\n",
      "  return self.partial_fit(X, y)\n"
     ]
    }
   ],
   "source": [
    "cols = df_corr.columns\n",
    "df = df.fillna(0)\n",
    "\n",
    "X = df[cols]\n",
    "y = pd.DataFrame(X.pop('SalePrice'))\n",
    "\n",
    "ymax, ymin = y.max(), y.min()\n",
    "\n",
    "y = min_max_scale(y)\n",
    "X = min_max_scale(X)"
   ]
  },
  {
   "cell_type": "code",
   "execution_count": 26,
   "metadata": {},
   "outputs": [
    {
     "name": "stdout",
     "output_type": "stream",
     "text": [
      "Error: 0.2840747221111149\n",
      "Error: 0.039206226326648844\n",
      "Error: 0.035960122265234186\n",
      "Error: 0.03239648282119418\n",
      "Error: 0.03199133365585414\n",
      "Error: 0.02836102965297955\n",
      "Error: 0.02753810484933421\n",
      "Error: 0.026019180002151004\n",
      "Error: 0.02521398908089869\n",
      "Error: 0.02438267458581998\n",
      "Error: 0.0236011855936354\n",
      "Error: 0.023937530096869334\n",
      "Error: 0.022446305278824647\n",
      "Error: 0.022378290480250234\n",
      "Error: 0.021389546422177864\n"
     ]
    }
   ],
   "source": [
    "nn1 = NN(X, y, [50, 100], loss_function='mae', bias=-4.2)\n",
    "nn1.train(2000, 200)"
   ]
  },
  {
   "cell_type": "code",
   "execution_count": 37,
   "metadata": {},
   "outputs": [
    {
     "name": "stdout",
     "output_type": "stream",
     "text": [
      "Error: 0.019972965522394002\n",
      "Error: 0.01732053406328442\n"
     ]
    }
   ],
   "source": [
    "nn1.train(400, 200)"
   ]
  },
  {
   "cell_type": "code",
   "execution_count": null,
   "metadata": {},
   "outputs": [],
   "source": [
    "nn = NN(X, y, [50, 100])\n",
    "nn.find_best_bias()"
   ]
  },
  {
   "cell_type": "code",
   "execution_count": null,
   "metadata": {},
   "outputs": [],
   "source": [
    "nn.bias_score_df[:5]"
   ]
  },
  {
   "cell_type": "code",
   "execution_count": null,
   "metadata": {},
   "outputs": [],
   "source": [
    "nn = NN(X, y, bias=-4.6)\n",
    "nn.genetic_alogrithm(20, nn_epochs=300)"
   ]
  },
  {
   "cell_type": "code",
   "execution_count": null,
   "metadata": {},
   "outputs": [],
   "source": [
    "df_test = pd.read_csv('./test.csv')\n",
    "df_test.fillna(0, inplace=True)\n",
    "df_test = df_test[[c for c in cols if c != 'SalePrice']]\n",
    "df_test.tail()\n",
    "\n",
    "X = min_max_scale(df_test)\n",
    "X"
   ]
  },
  {
   "cell_type": "code",
   "execution_count": 32,
   "metadata": {},
   "outputs": [
    {
     "data": {
      "text/plain": [
       "array([[203897.23943505],\n",
       "       [173032.53460192],\n",
       "       [205991.00551247],\n",
       "       ...,\n",
       "       [207536.45240177],\n",
       "       [222445.54721124],\n",
       "       [119519.08985001]])"
      ]
     },
     "execution_count": 32,
     "metadata": {},
     "output_type": "execute_result"
    }
   ],
   "source": [
    "prediction = (nn1.predict(X) * [ymax-ymin]) + [ymin]\n",
    "prediction"
   ]
  },
  {
   "cell_type": "code",
   "execution_count": 34,
   "metadata": {},
   "outputs": [
    {
     "data": {
      "text/html": [
       "<div>\n",
       "<style scoped>\n",
       "    .dataframe tbody tr th:only-of-type {\n",
       "        vertical-align: middle;\n",
       "    }\n",
       "\n",
       "    .dataframe tbody tr th {\n",
       "        vertical-align: top;\n",
       "    }\n",
       "\n",
       "    .dataframe thead th {\n",
       "        text-align: right;\n",
       "    }\n",
       "</style>\n",
       "<table border=\"1\" class=\"dataframe\">\n",
       "  <thead>\n",
       "    <tr style=\"text-align: right;\">\n",
       "      <th></th>\n",
       "      <th>Id</th>\n",
       "      <th>SalePrice</th>\n",
       "    </tr>\n",
       "  </thead>\n",
       "  <tbody>\n",
       "    <tr>\n",
       "      <th>0</th>\n",
       "      <td>1461</td>\n",
       "      <td>203897.239435</td>\n",
       "    </tr>\n",
       "    <tr>\n",
       "      <th>1</th>\n",
       "      <td>1462</td>\n",
       "      <td>173032.534602</td>\n",
       "    </tr>\n",
       "    <tr>\n",
       "      <th>2</th>\n",
       "      <td>1463</td>\n",
       "      <td>205991.005512</td>\n",
       "    </tr>\n",
       "    <tr>\n",
       "      <th>3</th>\n",
       "      <td>1464</td>\n",
       "      <td>152311.394616</td>\n",
       "    </tr>\n",
       "    <tr>\n",
       "      <th>4</th>\n",
       "      <td>1465</td>\n",
       "      <td>241069.696465</td>\n",
       "    </tr>\n",
       "  </tbody>\n",
       "</table>\n",
       "</div>"
      ],
      "text/plain": [
       "     Id      SalePrice\n",
       "0  1461  203897.239435\n",
       "1  1462  173032.534602\n",
       "2  1463  205991.005512\n",
       "3  1464  152311.394616\n",
       "4  1465  241069.696465"
      ]
     },
     "execution_count": 34,
     "metadata": {},
     "output_type": "execute_result"
    }
   ],
   "source": [
    "df_final = pd.DataFrame(prediction)\n",
    "df_final['Id'] = df_final.index + 1461\n",
    "df_final = df_final.rename(columns={0:'SalePrice'})\n",
    "df_final = df_final[['Id', 'SalePrice']]\n",
    "df_final.head()"
   ]
  },
  {
   "cell_type": "code",
   "execution_count": 35,
   "metadata": {},
   "outputs": [],
   "source": [
    "df_final.to_csv('output.csv', index=False)"
   ]
  },
  {
   "cell_type": "code",
   "execution_count": null,
   "metadata": {},
   "outputs": [],
   "source": []
  }
 ],
 "metadata": {
  "kernelspec": {
   "display_name": "Python 3",
   "language": "python",
   "name": "python3"
  },
  "language_info": {
   "codemirror_mode": {
    "name": "ipython",
    "version": 3
   },
   "file_extension": ".py",
   "mimetype": "text/x-python",
   "name": "python",
   "nbconvert_exporter": "python",
   "pygments_lexer": "ipython3",
   "version": "3.7.3"
  }
 },
 "nbformat": 4,
 "nbformat_minor": 2
}
